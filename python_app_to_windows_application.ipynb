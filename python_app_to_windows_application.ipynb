# Install necessary modules
!pip install cx_Freeze
from cx_Freeze import setup, Executable

# Add a name for your application
# add the python app below, make sure it's GUI app created using Tkinter
setup(name='Demo_app',
  version='0.1',
  description='Creating an excutable file for the python script',
  executables=[Executable('demo_app.py')])
